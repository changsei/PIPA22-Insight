{
 "cells": [
  {
   "cell_type": "code",
   "execution_count": null,
   "metadata": {},
   "outputs": [],
   "source": [
    "## 패키지 import\n",
    "\n",
    "import numpy as np\n",
    "import pandas as pd\n",
    "import matplotlib.pyplot as plt\n",
    "import seaborn as sns\n",
    "import warnings\n",
    "warnings.filterwarnings('ignore')"
   ]
  },
  {
   "cell_type": "code",
   "execution_count": 24,
   "metadata": {},
   "outputs": [],
   "source": [
    "## 'data_modified'에서 전치리된 csv파일을 읽어와서 분석해주십시오.\n",
    "## 담당자: 김동언\n",
    "\n",
    "data = pd.read_csv('data_modified/team_comparison_2.csv')"
   ]
  },
  {
   "cell_type": "code",
   "execution_count": 32,
   "metadata": {},
   "outputs": [],
   "source": [
    "# 각 포지션 별 리스트 작성\n",
    "gk_list=['GK']\n",
    "cb_list=['CB','RB','LB','RWB','LWB']\n",
    "mf_list=['CAM','CM','CDM','LM','RM']\n",
    "st_list=['ST','LW','RW','CF']"
   ]
  },
  {
   "cell_type": "code",
   "execution_count": 33,
   "metadata": {},
   "outputs": [],
   "source": [
    "# 리버풀 선수들과 레알마드리드 선수들을 분리 (Overall 기준)\n",
    "lp = data[data['Club']=='Liverpool'].sort_values(by='Overall',ascending=False)\n",
    "rm = data[data['Club']=='Real Madrid CF'].sort_values(by='Overall',ascending=False)\n",
    "mc = data[data['Club']=='Manchester City'].sort_values(by='Overall',ascending=False)"
   ]
  },
  {
   "cell_type": "code",
   "execution_count": 34,
   "metadata": {},
   "outputs": [],
   "source": [
    "# 각 포지션별 남은 자리 숫자를 입력, 반복문 사용해서 주전선수ID 저장, 상세포지션을 'CB,MF,ST'로 변경(리버풀)\n",
    "st_count=2\n",
    "mf_count=4\n",
    "cb_count=4\n",
    "gk_count=1\n",
    "\n",
    "lp_id=[]\n",
    "for index in lp.index:\n",
    "  if lp['Best Position'][index] in gk_list:\n",
    "    if gk_count != 0:\n",
    "      lp_id.append(lp['ID'][index])\n",
    "      gk_count -= 1\n",
    "  elif lp['Best Position'][index] in cb_list:\n",
    "    if cb_count != 0:\n",
    "      lp['Best Position'][index]='CB'\n",
    "      lp_id.append(lp['ID'][index])\n",
    "      cb_count -= 1\n",
    "  elif lp['Best Position'][index] in mf_list:\n",
    "    if mf_count != 0:\n",
    "      lp['Best Position'][index]='MF'\n",
    "      lp_id.append(lp['ID'][index])\n",
    "      mf_count -= 1\n",
    "  else:\n",
    "    if st_count != 0:\n",
    "      lp['Best Position'][index]='ST'\n",
    "      lp_id.append(lp['ID'][index])\n",
    "      st_count -= 1"
   ]
  },
  {
   "cell_type": "code",
   "execution_count": 35,
   "metadata": {},
   "outputs": [],
   "source": [
    "# Point 컬럼 만들기기\n",
    "lp['Point']=(lp['Overall']*2+lp['Potential'])/lp['Age']"
   ]
  },
  {
   "cell_type": "code",
   "execution_count": 37,
   "metadata": {},
   "outputs": [
    {
     "data": {
      "text/html": [
       "<div>\n",
       "<style scoped>\n",
       "    .dataframe tbody tr th:only-of-type {\n",
       "        vertical-align: middle;\n",
       "    }\n",
       "\n",
       "    .dataframe tbody tr th {\n",
       "        vertical-align: top;\n",
       "    }\n",
       "\n",
       "    .dataframe thead th {\n",
       "        text-align: right;\n",
       "    }\n",
       "</style>\n",
       "<table border=\"1\" class=\"dataframe\">\n",
       "  <thead>\n",
       "    <tr style=\"text-align: right;\">\n",
       "      <th></th>\n",
       "      <th>Name</th>\n",
       "      <th>Overall</th>\n",
       "      <th>Potential</th>\n",
       "      <th>Age</th>\n",
       "      <th>Point</th>\n",
       "      <th>Joined</th>\n",
       "    </tr>\n",
       "  </thead>\n",
       "  <tbody>\n",
       "    <tr>\n",
       "      <th>7</th>\n",
       "      <td>Thiago</td>\n",
       "      <td>86</td>\n",
       "      <td>86</td>\n",
       "      <td>30</td>\n",
       "      <td>8.600000</td>\n",
       "      <td>Sep 18, 2020</td>\n",
       "    </tr>\n",
       "    <tr>\n",
       "      <th>15</th>\n",
       "      <td>Fabinho</td>\n",
       "      <td>86</td>\n",
       "      <td>88</td>\n",
       "      <td>27</td>\n",
       "      <td>9.629630</td>\n",
       "      <td>Jul 1, 2018</td>\n",
       "    </tr>\n",
       "    <tr>\n",
       "      <th>8</th>\n",
       "      <td>J. Henderson</td>\n",
       "      <td>84</td>\n",
       "      <td>84</td>\n",
       "      <td>31</td>\n",
       "      <td>8.129032</td>\n",
       "      <td>Jun 9, 2011</td>\n",
       "    </tr>\n",
       "    <tr>\n",
       "      <th>33</th>\n",
       "      <td>N. Keïta</td>\n",
       "      <td>80</td>\n",
       "      <td>83</td>\n",
       "      <td>26</td>\n",
       "      <td>9.346154</td>\n",
       "      <td>Jul 1, 2018</td>\n",
       "    </tr>\n",
       "  </tbody>\n",
       "</table>\n",
       "</div>"
      ],
      "text/plain": [
       "            Name  Overall  Potential  Age     Point        Joined\n",
       "7         Thiago       86         86   30  8.600000  Sep 18, 2020\n",
       "15       Fabinho       86         88   27  9.629630   Jul 1, 2018\n",
       "8   J. Henderson       84         84   31  8.129032   Jun 9, 2011\n",
       "33      N. Keïta       80         83   26  9.346154   Jul 1, 2018"
      ]
     },
     "execution_count": 37,
     "metadata": {},
     "output_type": "execute_result"
    }
   ],
   "source": [
    "lp[lp['Best Position']=='MF'][['Name','Overall','Potential','Age','Point','Joined']]\n",
    "# 방출해야할 선수는 MF 포지션에서 Point가 가장 낮은 'J. Henderson' 입니다."
   ]
  },
  {
   "cell_type": "code",
   "execution_count": null,
   "metadata": {},
   "outputs": [],
   "source": []
  }
 ],
 "metadata": {
  "kernelspec": {
   "display_name": "venv",
   "language": "python",
   "name": "python3"
  },
  "language_info": {
   "codemirror_mode": {
    "name": "ipython",
    "version": 3
   },
   "file_extension": ".py",
   "mimetype": "text/x-python",
   "name": "python",
   "nbconvert_exporter": "python",
   "pygments_lexer": "ipython3",
   "version": "3.12.4"
  }
 },
 "nbformat": 4,
 "nbformat_minor": 2
}
