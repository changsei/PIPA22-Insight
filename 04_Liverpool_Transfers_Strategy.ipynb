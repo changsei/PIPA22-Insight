{
 "cells": [
  {
   "cell_type": "code",
   "execution_count": 1,
   "metadata": {},
   "outputs": [],
   "source": [
    "## 패키지 import\n",
    "\n",
    "import numpy as np\n",
    "import pandas as pd\n",
    "import matplotlib.pyplot as plt\n",
    "import seaborn as sns\n",
    "import warnings\n",
    "warnings.filterwarnings('ignore')"
   ]
  },
  {
   "cell_type": "code",
   "execution_count": 6,
   "metadata": {},
   "outputs": [],
   "source": [
    "## 'data_modified'에서 전치리된 csv파일을 읽어와서 분석해주십시오.\n",
    "## 담당자: 김동언\n",
    "lp = pd.read_csv('data_modified/real_madrid_players.csv')"
   ]
  },
  {
   "cell_type": "code",
   "execution_count": 7,
   "metadata": {},
   "outputs": [],
   "source": [
    "# Point 컬럼 만들기기\n",
    "lp['Point']=(lp['Overall']*2+lp['Potential'])/lp['Age']"
   ]
  },
  {
   "cell_type": "code",
   "execution_count": 8,
   "metadata": {},
   "outputs": [
    {
     "data": {
      "text/html": [
       "<div>\n",
       "<style scoped>\n",
       "    .dataframe tbody tr th:only-of-type {\n",
       "        vertical-align: middle;\n",
       "    }\n",
       "\n",
       "    .dataframe tbody tr th {\n",
       "        vertical-align: top;\n",
       "    }\n",
       "\n",
       "    .dataframe thead th {\n",
       "        text-align: right;\n",
       "    }\n",
       "</style>\n",
       "<table border=\"1\" class=\"dataframe\">\n",
       "  <thead>\n",
       "    <tr style=\"text-align: right;\">\n",
       "      <th></th>\n",
       "      <th>Name</th>\n",
       "      <th>Overall</th>\n",
       "      <th>Potential</th>\n",
       "      <th>Age</th>\n",
       "      <th>Point</th>\n",
       "      <th>Joined</th>\n",
       "    </tr>\n",
       "  </thead>\n",
       "  <tbody>\n",
       "    <tr>\n",
       "      <th>1</th>\n",
       "      <td>Casemiro</td>\n",
       "      <td>89</td>\n",
       "      <td>89</td>\n",
       "      <td>29</td>\n",
       "      <td>9.206897</td>\n",
       "      <td>Jul 11, 2013</td>\n",
       "    </tr>\n",
       "    <tr>\n",
       "      <th>3</th>\n",
       "      <td>T. Kroos</td>\n",
       "      <td>88</td>\n",
       "      <td>88</td>\n",
       "      <td>31</td>\n",
       "      <td>8.516129</td>\n",
       "      <td>Jul 17, 2014</td>\n",
       "    </tr>\n",
       "    <tr>\n",
       "      <th>4</th>\n",
       "      <td>L. Modrić</td>\n",
       "      <td>87</td>\n",
       "      <td>87</td>\n",
       "      <td>35</td>\n",
       "      <td>7.457143</td>\n",
       "      <td>Aug 1, 2012</td>\n",
       "    </tr>\n",
       "    <tr>\n",
       "      <th>8</th>\n",
       "      <td>F. Valverde</td>\n",
       "      <td>83</td>\n",
       "      <td>89</td>\n",
       "      <td>22</td>\n",
       "      <td>11.590909</td>\n",
       "      <td>Jul 22, 2016</td>\n",
       "    </tr>\n",
       "  </tbody>\n",
       "</table>\n",
       "</div>"
      ],
      "text/plain": [
       "          Name  Overall  Potential  Age      Point        Joined\n",
       "1     Casemiro       89         89   29   9.206897  Jul 11, 2013\n",
       "3     T. Kroos       88         88   31   8.516129  Jul 17, 2014\n",
       "4    L. Modrić       87         87   35   7.457143   Aug 1, 2012\n",
       "8  F. Valverde       83         89   22  11.590909  Jul 22, 2016"
      ]
     },
     "execution_count": 8,
     "metadata": {},
     "output_type": "execute_result"
    }
   ],
   "source": [
    "lp[lp['Best Position']=='MF'][['Name','Overall','Potential','Age','Point','Joined']]\n",
    "# 방출해야할 선수는 MF 포지션에서 Point가 가장 낮은 'J. Henderson' 입니다."
   ]
  },
  {
   "cell_type": "code",
   "execution_count": null,
   "metadata": {},
   "outputs": [],
   "source": []
  }
 ],
 "metadata": {
  "kernelspec": {
   "display_name": "base",
   "language": "python",
   "name": "python3"
  },
  "language_info": {
   "codemirror_mode": {
    "name": "ipython",
    "version": 3
   },
   "file_extension": ".py",
   "mimetype": "text/x-python",
   "name": "python",
   "nbconvert_exporter": "python",
   "pygments_lexer": "ipython3",
   "version": "3.12.4"
  }
 },
 "nbformat": 4,
 "nbformat_minor": 2
}
