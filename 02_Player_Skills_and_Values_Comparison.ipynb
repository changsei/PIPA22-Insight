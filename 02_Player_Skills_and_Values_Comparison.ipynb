{
 "cells": [
  {
   "cell_type": "code",
   "execution_count": 1,
   "metadata": {},
   "outputs": [],
   "source": [
    "## 패키지 import\n",
    "\n",
    "import numpy as np\n",
    "import pandas as pd\n",
    "import matplotlib.pyplot as plt\n",
    "import seaborn as sns\n",
    "import warnings\n",
    "warnings.filterwarnings('ignore')"
   ]
  },
  {
   "cell_type": "code",
   "execution_count": 2,
   "metadata": {},
   "outputs": [],
   "source": [
    "## 데이터 전처리한 결과를 './data_modified'에 csv파일 형태로 저장해주십시오.\n",
    "## 저장할 때 인코딩을 신경써야할 수 도 있습니다. \n",
    "## 담당자: 안명진\n",
    "# 데이터 불러오기\n",
    "data = pd.read_csv(\"./data/FIFA22_official_data.csv\")"
   ]
  },
  {
   "cell_type": "code",
   "execution_count": 3,
   "metadata": {},
   "outputs": [
    {
     "name": "stdout",
     "output_type": "stream",
     "text": [
      "<class 'pandas.core.frame.DataFrame'>\n",
      "Index: 89 entries, 3 to 16577\n",
      "Data columns (total 65 columns):\n",
      " #   Column                    Non-Null Count  Dtype  \n",
      "---  ------                    --------------  -----  \n",
      " 0   ID                        89 non-null     int64  \n",
      " 1   Name                      89 non-null     object \n",
      " 2   Age                       89 non-null     int64  \n",
      " 3   Photo                     89 non-null     object \n",
      " 4   Nationality               89 non-null     object \n",
      " 5   Flag                      89 non-null     object \n",
      " 6   Overall                   89 non-null     int64  \n",
      " 7   Potential                 89 non-null     int64  \n",
      " 8   Club                      89 non-null     object \n",
      " 9   Club Logo                 89 non-null     object \n",
      " 10  Value                     89 non-null     object \n",
      " 11  Wage                      89 non-null     object \n",
      " 12  Special                   89 non-null     int64  \n",
      " 13  Preferred Foot            89 non-null     object \n",
      " 14  International Reputation  89 non-null     float64\n",
      " 15  Weak Foot                 89 non-null     float64\n",
      " 16  Skill Moves               89 non-null     float64\n",
      " 17  Work Rate                 89 non-null     object \n",
      " 18  Body Type                 89 non-null     object \n",
      " 19  Real Face                 89 non-null     object \n",
      " 20  Position                  89 non-null     object \n",
      " 21  Jersey Number             89 non-null     float64\n",
      " 22  Joined                    88 non-null     object \n",
      " 23  Loaned From               1 non-null      object \n",
      " 24  Contract Valid Until      89 non-null     object \n",
      " 25  Height                    89 non-null     object \n",
      " 26  Weight                    89 non-null     object \n",
      " 27  Crossing                  89 non-null     float64\n",
      " 28  Finishing                 89 non-null     float64\n",
      " 29  HeadingAccuracy           89 non-null     float64\n",
      " 30  ShortPassing              89 non-null     float64\n",
      " 31  Volleys                   89 non-null     float64\n",
      " 32  Dribbling                 89 non-null     float64\n",
      " 33  Curve                     89 non-null     float64\n",
      " 34  FKAccuracy                89 non-null     float64\n",
      " 35  LongPassing               89 non-null     float64\n",
      " 36  BallControl               89 non-null     float64\n",
      " 37  Acceleration              89 non-null     float64\n",
      " 38  SprintSpeed               89 non-null     float64\n",
      " 39  Agility                   89 non-null     float64\n",
      " 40  Reactions                 89 non-null     float64\n",
      " 41  Balance                   89 non-null     float64\n",
      " 42  ShotPower                 89 non-null     float64\n",
      " 43  Jumping                   89 non-null     float64\n",
      " 44  Stamina                   89 non-null     float64\n",
      " 45  Strength                  89 non-null     float64\n",
      " 46  LongShots                 89 non-null     float64\n",
      " 47  Aggression                89 non-null     float64\n",
      " 48  Interceptions             89 non-null     float64\n",
      " 49  Positioning               89 non-null     float64\n",
      " 50  Vision                    89 non-null     float64\n",
      " 51  Penalties                 89 non-null     float64\n",
      " 52  Composure                 89 non-null     float64\n",
      " 53  Marking                   0 non-null      float64\n",
      " 54  StandingTackle            89 non-null     float64\n",
      " 55  SlidingTackle             89 non-null     float64\n",
      " 56  GKDiving                  89 non-null     float64\n",
      " 57  GKHandling                89 non-null     float64\n",
      " 58  GKKicking                 89 non-null     float64\n",
      " 59  GKPositioning             89 non-null     float64\n",
      " 60  GKReflexes                89 non-null     float64\n",
      " 61  Best Position             89 non-null     object \n",
      " 62  Best Overall Rating       89 non-null     float64\n",
      " 63  Release Clause            88 non-null     object \n",
      " 64  DefensiveAwareness        89 non-null     float64\n",
      "dtypes: float64(40), int64(5), object(20)\n",
      "memory usage: 45.9+ KB\n"
     ]
    }
   ],
   "source": [
    "# 리버풀,레알마드리드 그리고 맨시티 능력치을 서로 비교하기 위해서 필요한 전처리 실행\n",
    "\n",
    "# 비교할 팀을 포함한 데이터 뽑기(Liverpool vs Real Madrid CF)\n",
    "df1=data[(data['Club']=='Liverpool')|(data['Club']=='Real Madrid CF')|(data['Club']=='Manchester City')]\n",
    "\n",
    "# 선수가치가 1M 이상인 선수로 필터\n",
    "df1 = df1[df1['Value'].str.contains('M')]\n",
    "\n",
    "# 결측치 확인 및 불필요한 컬럼 제거\n",
    "df1.info()\n",
    "df1 = df1.drop(columns=['Marking'])\n",
    "\n",
    "# Value 칼럼의 데이터를 수치형으로 변환\n",
    "df1['Value'] = df1['Value'].str.slice(1,-1).astype(float)"
   ]
  },
  {
   "cell_type": "code",
   "execution_count": 4,
   "metadata": {},
   "outputs": [
    {
     "name": "stdout",
     "output_type": "stream",
     "text": [
      "CSV 파일이 저장되었습니다: data_modified\\team_comparison.csv\n"
     ]
    }
   ],
   "source": [
    "import os\n",
    "\n",
    "# 디렉토리 경로 설정\n",
    "output_dir = 'data_modified'\n",
    "\n",
    "# 디렉토리가 존재하지 않으면 생성\n",
    "if not os.path.exists(output_dir):\n",
    "    os.makedirs(output_dir)\n",
    "\n",
    "# CSV 파일 저장 경로 설정\n",
    "output_path = os.path.join(output_dir, 'team_comparison.csv')\n",
    "\n",
    "# df1을 CSV 파일로 저장\n",
    "df1.to_csv(output_path, index=False, encoding='utf-8-sig')\n",
    "\n",
    "print(f\"CSV 파일이 저장되었습니다: {output_path}\")\n"
   ]
  },
  {
   "cell_type": "code",
   "execution_count": null,
   "metadata": {},
   "outputs": [],
   "source": []
  }
 ],
 "metadata": {
  "kernelspec": {
   "display_name": "venv",
   "language": "python",
   "name": "python3"
  },
  "language_info": {
   "codemirror_mode": {
    "name": "ipython",
    "version": 3
   },
   "file_extension": ".py",
   "mimetype": "text/x-python",
   "name": "python",
   "nbconvert_exporter": "python",
   "pygments_lexer": "ipython3",
   "version": "3.12.4"
  }
 },
 "nbformat": 4,
 "nbformat_minor": 2
}
