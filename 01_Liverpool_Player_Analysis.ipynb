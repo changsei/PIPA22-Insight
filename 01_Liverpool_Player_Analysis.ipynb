{
 "cells": [
  {
   "cell_type": "code",
   "execution_count": 1,
   "metadata": {},
   "outputs": [],
   "source": [
    "## 패키지 import\n",
    "\n",
    "import numpy as np\n",
    "import pandas as pd\n",
    "import matplotlib.pyplot as plt\n",
    "import seaborn as sns\n",
    "import warnings\n",
    "warnings.filterwarnings('ignore')"
   ]
  },
  {
   "cell_type": "code",
   "execution_count": 2,
   "metadata": {},
   "outputs": [],
   "source": [
    "## 기존 데이터셋은 './data' 디렉토리에 있습니다.\n",
    "## 담당자: 김동언\n",
    "# 데이터 불러오기\n",
    "data = pd.read_csv(\"./data/FIFA22_official_data.csv\")"
   ]
  },
  {
   "cell_type": "code",
   "execution_count": 3,
   "metadata": {},
   "outputs": [
    {
     "data": {
      "text/html": [
       "<div>\n",
       "<style scoped>\n",
       "    .dataframe tbody tr th:only-of-type {\n",
       "        vertical-align: middle;\n",
       "    }\n",
       "\n",
       "    .dataframe tbody tr th {\n",
       "        vertical-align: top;\n",
       "    }\n",
       "\n",
       "    .dataframe thead th {\n",
       "        text-align: right;\n",
       "    }\n",
       "</style>\n",
       "<table border=\"1\" class=\"dataframe\">\n",
       "  <thead>\n",
       "    <tr style=\"text-align: right;\">\n",
       "      <th></th>\n",
       "      <th>ID</th>\n",
       "      <th>Name</th>\n",
       "      <th>Age</th>\n",
       "      <th>Photo</th>\n",
       "      <th>Nationality</th>\n",
       "      <th>Flag</th>\n",
       "      <th>Overall</th>\n",
       "      <th>Potential</th>\n",
       "      <th>Club</th>\n",
       "      <th>Club Logo</th>\n",
       "      <th>...</th>\n",
       "      <th>SlidingTackle</th>\n",
       "      <th>GKDiving</th>\n",
       "      <th>GKHandling</th>\n",
       "      <th>GKKicking</th>\n",
       "      <th>GKPositioning</th>\n",
       "      <th>GKReflexes</th>\n",
       "      <th>Best Position</th>\n",
       "      <th>Best Overall Rating</th>\n",
       "      <th>Release Clause</th>\n",
       "      <th>DefensiveAwareness</th>\n",
       "    </tr>\n",
       "  </thead>\n",
       "  <tbody>\n",
       "    <tr>\n",
       "      <th>0</th>\n",
       "      <td>212198</td>\n",
       "      <td>Bruno Fernandes</td>\n",
       "      <td>26</td>\n",
       "      <td>https://cdn.sofifa.com/players/212/198/22_60.png</td>\n",
       "      <td>Portugal</td>\n",
       "      <td>https://cdn.sofifa.com/flags/pt.png</td>\n",
       "      <td>88</td>\n",
       "      <td>89</td>\n",
       "      <td>Manchester United</td>\n",
       "      <td>https://cdn.sofifa.com/teams/11/30.png</td>\n",
       "      <td>...</td>\n",
       "      <td>65.0</td>\n",
       "      <td>12.0</td>\n",
       "      <td>14.0</td>\n",
       "      <td>15.0</td>\n",
       "      <td>8.0</td>\n",
       "      <td>14.0</td>\n",
       "      <td>CAM</td>\n",
       "      <td>88.0</td>\n",
       "      <td>€206.9M</td>\n",
       "      <td>72.0</td>\n",
       "    </tr>\n",
       "    <tr>\n",
       "      <th>1</th>\n",
       "      <td>209658</td>\n",
       "      <td>L. Goretzka</td>\n",
       "      <td>26</td>\n",
       "      <td>https://cdn.sofifa.com/players/209/658/22_60.png</td>\n",
       "      <td>Germany</td>\n",
       "      <td>https://cdn.sofifa.com/flags/de.png</td>\n",
       "      <td>87</td>\n",
       "      <td>88</td>\n",
       "      <td>FC Bayern München</td>\n",
       "      <td>https://cdn.sofifa.com/teams/21/30.png</td>\n",
       "      <td>...</td>\n",
       "      <td>77.0</td>\n",
       "      <td>13.0</td>\n",
       "      <td>8.0</td>\n",
       "      <td>15.0</td>\n",
       "      <td>11.0</td>\n",
       "      <td>9.0</td>\n",
       "      <td>CM</td>\n",
       "      <td>87.0</td>\n",
       "      <td>€160.4M</td>\n",
       "      <td>74.0</td>\n",
       "    </tr>\n",
       "    <tr>\n",
       "      <th>2</th>\n",
       "      <td>176580</td>\n",
       "      <td>L. Suárez</td>\n",
       "      <td>34</td>\n",
       "      <td>https://cdn.sofifa.com/players/176/580/22_60.png</td>\n",
       "      <td>Uruguay</td>\n",
       "      <td>https://cdn.sofifa.com/flags/uy.png</td>\n",
       "      <td>88</td>\n",
       "      <td>88</td>\n",
       "      <td>Atlético de Madrid</td>\n",
       "      <td>https://cdn.sofifa.com/teams/240/30.png</td>\n",
       "      <td>...</td>\n",
       "      <td>38.0</td>\n",
       "      <td>27.0</td>\n",
       "      <td>25.0</td>\n",
       "      <td>31.0</td>\n",
       "      <td>33.0</td>\n",
       "      <td>37.0</td>\n",
       "      <td>ST</td>\n",
       "      <td>88.0</td>\n",
       "      <td>€91.2M</td>\n",
       "      <td>42.0</td>\n",
       "    </tr>\n",
       "    <tr>\n",
       "      <th>3</th>\n",
       "      <td>192985</td>\n",
       "      <td>K. De Bruyne</td>\n",
       "      <td>30</td>\n",
       "      <td>https://cdn.sofifa.com/players/192/985/22_60.png</td>\n",
       "      <td>Belgium</td>\n",
       "      <td>https://cdn.sofifa.com/flags/be.png</td>\n",
       "      <td>91</td>\n",
       "      <td>91</td>\n",
       "      <td>Manchester City</td>\n",
       "      <td>https://cdn.sofifa.com/teams/10/30.png</td>\n",
       "      <td>...</td>\n",
       "      <td>53.0</td>\n",
       "      <td>15.0</td>\n",
       "      <td>13.0</td>\n",
       "      <td>5.0</td>\n",
       "      <td>10.0</td>\n",
       "      <td>13.0</td>\n",
       "      <td>CM</td>\n",
       "      <td>91.0</td>\n",
       "      <td>€232.2M</td>\n",
       "      <td>68.0</td>\n",
       "    </tr>\n",
       "    <tr>\n",
       "      <th>4</th>\n",
       "      <td>224334</td>\n",
       "      <td>M. Acuña</td>\n",
       "      <td>29</td>\n",
       "      <td>https://cdn.sofifa.com/players/224/334/22_60.png</td>\n",
       "      <td>Argentina</td>\n",
       "      <td>https://cdn.sofifa.com/flags/ar.png</td>\n",
       "      <td>84</td>\n",
       "      <td>84</td>\n",
       "      <td>Sevilla FC</td>\n",
       "      <td>https://cdn.sofifa.com/teams/481/30.png</td>\n",
       "      <td>...</td>\n",
       "      <td>82.0</td>\n",
       "      <td>8.0</td>\n",
       "      <td>14.0</td>\n",
       "      <td>13.0</td>\n",
       "      <td>13.0</td>\n",
       "      <td>14.0</td>\n",
       "      <td>LB</td>\n",
       "      <td>84.0</td>\n",
       "      <td>€77.7M</td>\n",
       "      <td>80.0</td>\n",
       "    </tr>\n",
       "  </tbody>\n",
       "</table>\n",
       "<p>5 rows × 65 columns</p>\n",
       "</div>"
      ],
      "text/plain": [
       "       ID             Name  Age  \\\n",
       "0  212198  Bruno Fernandes   26   \n",
       "1  209658      L. Goretzka   26   \n",
       "2  176580        L. Suárez   34   \n",
       "3  192985     K. De Bruyne   30   \n",
       "4  224334         M. Acuña   29   \n",
       "\n",
       "                                              Photo Nationality  \\\n",
       "0  https://cdn.sofifa.com/players/212/198/22_60.png    Portugal   \n",
       "1  https://cdn.sofifa.com/players/209/658/22_60.png     Germany   \n",
       "2  https://cdn.sofifa.com/players/176/580/22_60.png     Uruguay   \n",
       "3  https://cdn.sofifa.com/players/192/985/22_60.png     Belgium   \n",
       "4  https://cdn.sofifa.com/players/224/334/22_60.png   Argentina   \n",
       "\n",
       "                                  Flag  Overall  Potential  \\\n",
       "0  https://cdn.sofifa.com/flags/pt.png       88         89   \n",
       "1  https://cdn.sofifa.com/flags/de.png       87         88   \n",
       "2  https://cdn.sofifa.com/flags/uy.png       88         88   \n",
       "3  https://cdn.sofifa.com/flags/be.png       91         91   \n",
       "4  https://cdn.sofifa.com/flags/ar.png       84         84   \n",
       "\n",
       "                 Club                                Club Logo  ...  \\\n",
       "0   Manchester United   https://cdn.sofifa.com/teams/11/30.png  ...   \n",
       "1   FC Bayern München   https://cdn.sofifa.com/teams/21/30.png  ...   \n",
       "2  Atlético de Madrid  https://cdn.sofifa.com/teams/240/30.png  ...   \n",
       "3     Manchester City   https://cdn.sofifa.com/teams/10/30.png  ...   \n",
       "4          Sevilla FC  https://cdn.sofifa.com/teams/481/30.png  ...   \n",
       "\n",
       "  SlidingTackle GKDiving  GKHandling GKKicking  GKPositioning  GKReflexes  \\\n",
       "0          65.0     12.0        14.0      15.0            8.0        14.0   \n",
       "1          77.0     13.0         8.0      15.0           11.0         9.0   \n",
       "2          38.0     27.0        25.0      31.0           33.0        37.0   \n",
       "3          53.0     15.0        13.0       5.0           10.0        13.0   \n",
       "4          82.0      8.0        14.0      13.0           13.0        14.0   \n",
       "\n",
       "   Best Position Best Overall Rating Release Clause DefensiveAwareness  \n",
       "0            CAM                88.0        €206.9M               72.0  \n",
       "1             CM                87.0        €160.4M               74.0  \n",
       "2             ST                88.0         €91.2M               42.0  \n",
       "3             CM                91.0        €232.2M               68.0  \n",
       "4             LB                84.0         €77.7M               80.0  \n",
       "\n",
       "[5 rows x 65 columns]"
      ]
     },
     "execution_count": 3,
     "metadata": {},
     "output_type": "execute_result"
    }
   ],
   "source": [
    "#데이터 확인하기\n",
    "data.head()"
   ]
  },
  {
   "cell_type": "code",
   "execution_count": 4,
   "metadata": {},
   "outputs": [],
   "source": [
    "# 데이터 다듬기\n",
    "data.columns # 데이터 컬럼 확인\n",
    "data=data.drop(columns=['Photo','Flag','Club Logo','Real Face']) # 불필요한 컬럼(이미지) 삭제\n",
    "# Position 컬럼에는 후보선수의 포지션이 SUB로 나오기 때문에, 포지션에 관한 컬럼은 Best Position 컬럼을 사용한다."
   ]
  },
  {
   "cell_type": "code",
   "execution_count": 5,
   "metadata": {},
   "outputs": [
    {
     "data": {
      "image/png": "[encoded data removed]",
      "text/plain": [
       "<Figure size 1000x600 with 1 Axes>"
      ]
     },
     "metadata": {},
     "output_type": "display_data"
    }
   ],
   "source": [
    "# 리버풀의 나이대, 포지션은 어떻게 구성되어 있는지 살펴보기\n",
    "\n",
    "Liverpool = data[data['Club'] == 'Liverpool']\n",
    "plt.figure(figsize=(10, 6))\n",
    "\n",
    "# 그래프 생성 - Age마다 색깔 다르게 설정\n",
    "sns.countplot(x='Age', data=Liverpool, palette='viridis')  # 팔레트 설정\n",
    "\n",
    "# 레이블과 제목 추가\n",
    "plt.xlabel(\"Age\", fontsize=12)\n",
    "plt.ylabel(\"Count\", fontsize=12)\n",
    "plt.title(\"Age Distribution of Liverpool Players\", fontsize=15)\n",
    "\n",
    "plt.show()"
   ]
  },
  {
   "cell_type": "code",
   "execution_count": null,
   "metadata": {},
   "outputs": [
    {
     "data": {
      "image/png": "[encoded data removed]",
      "text/plain": [
       "<Figure size 1000x600 with 1 Axes>"
      ]
     },
     "metadata": {},
     "output_type": "display_data"
    }
   ],
   "source": [
    "#포지션별 베스트 포지션 횟수\n",
    "\n",
    "Liverpool = data[data['Club'] == 'Liverpool']\n",
    "plt.figure(figsize=(10, 6))\n",
    "\n",
    "# 그래프 생성 - Age마다 색깔 다르게 설정\n",
    "sns.countplot(x='Best Position', data=Liverpool, palette='viridis')  # 팔레트 설정\n",
    "\n",
    "# 레이블과 제목 추가\n",
    "plt.xlabel(\"Best Position\", fontsize=12)\n",
    "plt.ylabel(\"Count\", fontsize=12)\n",
    "plt.title(\"\", fontsize=15)\n",
    "\n",
    "plt.show()"
   ]
  },
  {
   "cell_type": "code",
   "execution_count": 8,
   "metadata": {},
   "outputs": [
    {
     "data": {
      "text/plain": [
       "<Axes: xlabel='Best Position', ylabel='Overall'>"
      ]
     },
     "execution_count": 8,
     "metadata": {},
     "output_type": "execute_result"
    },
    {
     "data": {
      "image/png": "[encoded data removed]",
      "text/plain": [
       "<Figure size 1000x600 with 1 Axes>"
      ]
     },
     "metadata": {},
     "output_type": "display_data"
    }
   ],
   "source": [
    "# 리버풀의 선수에 대한 데이터 확인\n",
    "plt.figure(figsize=(10,6))\n",
    "sns.boxplot(data=Liverpool,x='Best Position',y='Overall',palette='viridis')\n",
    "# CAM, GK 포지션에서 이상치처럼 보이지만 이상치가 아님"
   ]
  },
  {
   "cell_type": "code",
   "execution_count": null,
   "metadata": {},
   "outputs": [],
   "source": [
    "\n"
   ]
  }
 ],
 "metadata": {
  "kernelspec": {
   "display_name": "venv",
   "language": "python",
   "name": "python3"
  },
  "language_info": {
   "codemirror_mode": {
    "name": "ipython",
    "version": 3
   },
   "file_extension": ".py",
   "mimetype": "text/x-python",
   "name": "python",
   "nbconvert_exporter": "python",
   "pygments_lexer": "ipython3",
   "version": "3.12.4"
  }
 },
 "nbformat": 4,
 "nbformat_minor": 2
}
